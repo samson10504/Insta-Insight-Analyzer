{
 "cells": [
  {
   "cell_type": "code",
   "execution_count": 1,
   "metadata": {},
   "outputs": [
    {
     "name": "stdout",
     "output_type": "stream",
     "text": [
      "C0wGw3_B4fp\n",
      "C01SHj7hVyB\n",
      "C1CQ3MyBsmS\n",
      "C0yvtHYhe61\n"
     ]
    }
   ],
   "source": [
    "import os\n",
    "\n",
    "# Specify the path to the \"log/\" directory\n",
    "directory_path = \"log/\"\n",
    "\n",
    "# Get the directory names under the \"log/\" directory\n",
    "posts = [name for name in os.listdir(directory_path) if os.path.isdir(os.path.join(directory_path, name))]\n",
    "\n"
   ]
  }
 ],
 "metadata": {
  "kernelspec": {
   "display_name": "Python 3",
   "language": "python",
   "name": "python3"
  },
  "language_info": {
   "codemirror_mode": {
    "name": "ipython",
    "version": 3
   },
   "file_extension": ".py",
   "mimetype": "text/x-python",
   "name": "python",
   "nbconvert_exporter": "python",
   "pygments_lexer": "ipython3",
   "version": "3.10.11"
  }
 },
 "nbformat": 4,
 "nbformat_minor": 2
}
